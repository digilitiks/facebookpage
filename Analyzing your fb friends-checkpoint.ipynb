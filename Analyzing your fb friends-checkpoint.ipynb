{
 "cells": [
  {
   "cell_type": "code",
   "execution_count": null,
   "metadata": {},
   "outputs": [],
   "source": [
    "import requests\n",
    "import json"
   ]
  },
  {
   "cell_type": "code",
   "execution_count": null,
   "metadata": {},
   "outputs": [],
   "source": [
    "base_url = 'https://graph.facebook.com/me'\n",
    "ACCESS_TOKEN = 'EEHzLcE0v1JiiXZBqeKmX0j90RDoiiLBtUZBX5pSyZCZB3yPwrXeeb20wQCwZAZBcqwymyoGNI'\n",
    "fields = 'id, name, location,birthday, friends.limit(10).fields(likes.limit(10))'"
   ]
  },
  {
   "cell_type": "code",
   "execution_count": null,
   "metadata": {},
   "outputs": [],
   "source": [
    "url = '{0}?fields={1}&access_token={2}'.format(base_url, fields, ACCESS_TOKEN)\n",
    "print(url)"
   ]
  },
  {
   "cell_type": "code",
   "execution_count": null,
   "metadata": {},
   "outputs": [],
   "source": [
    "content = requests.get(url, headers={'content-type':'application/json'}).json()\n",
    "print (json.dumps(content, indent=1))"
   ]
  },
  {
   "cell_type": "code",
   "execution_count": null,
   "metadata": {},
   "outputs": [],
   "source": [
    "import facebook\n",
    "\n",
    "def pp(o):\n",
    "    print (json.dumps(o, indent=1))\n",
    "\n",
    "g = facebook.GraphAPI(ACCESS_TOKEN)\n",
    "pp(g.get_object('me'))\n",
    "print ('-----------' )\n",
    "print ('Me')"
   ]
  },
  {
   "cell_type": "code",
   "execution_count": null,
   "metadata": {},
   "outputs": [],
   "source": [
    "friends = g.get_connections(\"me\", \"friends\")['data']\n",
    "likes = {friend['name']: g.get_connections(friend['id'], \"likes\")['data'] for friend in friends[:100]}\n",
    "print (likes)"
   ]
  },
  {
   "cell_type": "code",
   "execution_count": null,
   "metadata": {},
   "outputs": [],
   "source": [
    "friendslike = g.get_object('me', fields='id,name,friends.fields(id,name,likes)')\n",
    "print(friendslike)"
   ]
  },
  {
   "cell_type": "code",
   "execution_count": null,
   "metadata": {},
   "outputs": [],
   "source": [
    "pip install prettytable"
   ]
  },
  {
   "cell_type": "code",
   "execution_count": null,
   "metadata": {},
   "outputs": [],
   "source": [
    "from prettytable import PrettyTable \n",
    "from collections import Counter \n",
    "friends_likes = Counter([like['name']\n",
    "    for friend in likes\n",
    "      for like in likes[friend] \n",
    "        if like.get('name')])\n",
    "\n",
    "pt = PrettyTable(field_names=['Name', 'Freq']) \n",
    "pt.align['Name'], pt.align['Freq'] = 'l', 'r' \n",
    "[pt.add_row(fl) for fl in friends_likes.most_common(10)]\n",
    "\n",
    "print ('Top 10 likes amongst friends')\n",
    "print (pt)"
   ]
  },
  {
   "cell_type": "code",
   "execution_count": null,
   "metadata": {},
   "outputs": [],
   "source": [
    "friends_likes_categories = Counter([like['category']                                     \n",
    "                                    for friend in likes                                       \n",
    "                                       for like in likes[friend]])\n",
    "pt = PrettyTable(field_names=['Category', 'Freq']) \n",
    "pt.align['Category'], pt.align['Freq'] = 'l', 'r' \n",
    "[ pt.add_row(flc) for flc in friends_likes_categories.most_common(10) ]\n",
    "\n",
    "print (\"Top 10 like categories for friends\")\n",
    "print (pt)"
   ]
  },
  {
   "cell_type": "code",
   "execution_count": null,
   "metadata": {},
   "outputs": [],
   "source": [
    "from operator import itemgetter\n",
    "\n",
    "num_likes_by_friend = { friend : len(likes[friend])                         \n",
    "            for friend in likes }\n",
    "\n",
    "pt = PrettyTable(field_names=['Friend', 'Num Likes']) \n",
    "pt.align['Friend'], pt.align['Num Likes'] = 'l', 'r' \n",
    "[ pt.add_row(nlbf) \n",
    " for nlbf in sorted(num_likes_by_friend.items(),                     \n",
    "            key=itemgetter(1),                      \n",
    "            reverse=True) ]\n",
    "\n",
    "print (\"Number of likes per friend\")\n",
    "print (pt)\n"
   ]
  },
  {
   "cell_type": "code",
   "execution_count": null,
   "metadata": {},
   "outputs": [],
   "source": [
    "my_likes = [ like['name']              \n",
    "            for like in g.get_connections(\"me\", \"likes\")['data'] ]\n",
    "\n",
    "pt = PrettyTable(field_names=[\"Name\"]) \n",
    "pt.align = 'l' \n",
    "[ pt.add_row((ml,)) for ml in my_likes ] \n",
    "print (\"My likes\") \n",
    "print (pt)"
   ]
  },
  {
   "cell_type": "code",
   "execution_count": null,
   "metadata": {},
   "outputs": [],
   "source": [
    "common_likes = list(set(my_likes) & set(friends_likes))\n",
    "\n",
    "pt = PrettyTable(field_names=[\"Name\"]) \n",
    "pt.align = 'l' \n",
    "[ pt.add_row((cl,)) for cl in common_likes ] \n",
    "print (\"My common likes with friends\")\n",
    "print (pt)"
   ]
  },
  {
   "cell_type": "code",
   "execution_count": null,
   "metadata": {},
   "outputs": [],
   "source": [
    "similar_friends = [ (friend, friend_like['name'])                      \n",
    "                   for friend, friend_likes in likes.items()                       \n",
    "                    for friend_like in friend_likes                         \n",
    "                     if friend_like.get('name') in common_likes ]\n",
    "\n",
    "ranked_friends = Counter([ friend for (friend, like) in list(set(similar_friends)) ])\n",
    "\n",
    "pt = PrettyTable(field_names=[\"Friend\", \"Common Likes\"]) \n",
    "pt.align[\"Friend\"], pt.align[\"Common Likes\"] = 'l', 'r' \n",
    "[ pt.add_row(rf)   \n",
    " for rf in sorted(ranked_friends.items(),                   \n",
    "                    key=itemgetter(1),                    \n",
    "                    reverse=True) ] \n",
    "print (\"My similar friends (ranked)\") \n",
    "print (pt)"
   ]
  },
  {
   "cell_type": "code",
   "execution_count": null,
   "metadata": {},
   "outputs": [],
   "source": [
    "from matplotlib import pyplot as plt\n",
    "\n",
    "plt.hist(ranked_friends.values()) \n",
    "plt.xlabel('Number of friends with shared likes') \n",
    "plt.ylabel('Number of shared likes in each bin')"
   ]
  },
  {
   "cell_type": "code",
   "execution_count": null,
   "metadata": {},
   "outputs": [],
   "source": [
    "plt.figure()\n",
    "plt.hist(ranked_friends.values(), \n",
    "         bins=arange(1,max(ranked_friends.values()),1)) \n",
    "plt.xlabel('Bins (number of friends with shared likes)') \n",
    "plt.ylabel('Number of shared likes in each bin') \n",
    "plt.figure()"
   ]
  },
  {
   "cell_type": "code",
   "execution_count": null,
   "metadata": {},
   "outputs": [],
   "source": [
    "!pip install networkx\n",
    "import networkx as nx \n",
    "friends = [ (friend['id'], friend['name'],)                \n",
    "           for friend in g.get_connections('me', 'friends')['data'] ]\n",
    "url = 'https://graph.facebook.com/me/mutualfriends/%s?access_token=%s'\n",
    "mutual_friends = {} "
   ]
  },
  {
   "cell_type": "code",
   "execution_count": null,
   "metadata": {},
   "outputs": [],
   "source": [
    "for friend_id, friend_name in friends:    \n",
    "    r = requests.get(url % (friend_id, ACCESS_TOKEN,) )    \n",
    "    response_data = json.loads(r.content)['data']    \n",
    "    mutual_friends[friend_name] = [ data['name']                                     \n",
    "                                   for data in response_data ]    \n",
    "nxg = nx.Graph()\n",
    "[ nxg.add_edge('me', mf) for mf in mutual_friends ]\n",
    "\n",
    "[ nxg.add_edge(f1, f2)   \n",
    " for f1 in mutual_friends       \n",
    "     for f2 in mutual_friends[f1] ]\n",
    "print (nxg)"
   ]
  },
  {
   "cell_type": "code",
   "execution_count": null,
   "metadata": {},
   "outputs": [],
   "source": [
    "from functools import reduce\n",
    "\n",
    "cliques = [c for c in nx.find_cliques(nxg)]\n",
    "\n",
    "num_cliques = len(cliques)\n",
    "\n",
    "clique_sizes = [len(c) for c in cliques] \n",
    "max_clique_size = max(clique_sizes) \n",
    "avg_clique_size = sum(clique_sizes) / num_cliques\n",
    "max_cliques = [c for c in cliques if len(c) == max_clique_size]\n",
    "num_max_cliques = len(max_cliques)\n",
    "max_clique_sets = [set(c) for c in max_cliques] \n",
    "friends_in_all_max_cliques = list(reduce(lambda x, y: x.intersection(y),                                  \n",
    "                                         max_clique_sets))\n",
    "print ('Num cliques:', num_cliques )\n",
    "print ('Avg clique size:', avg_clique_size) \n",
    "print ('Max clique size:', max_clique_size) \n",
    "print ('Num max cliques:', num_max_cliques) \n",
    "print \n",
    "print ('Friends in all max cliques:') \n",
    "print (json.dumps(friends_in_all_max_cliques, indent=1)) \n",
    "print \n",
    "print ('Max cliques:') \n",
    "print (json.dumps(max_cliques, indent=1))"
   ]
  },
  {
   "cell_type": "code",
   "execution_count": null,
   "metadata": {},
   "outputs": [],
   "source": [
    "from networkx.readwrite import json_graph\n",
    "\n",
    "nld = json_graph.node_link_data(nxg)\n",
    "\n",
    "json.dump(nld, open('res/fad.json','w'))\n"
   ]
  },
  {
   "cell_type": "code",
   "execution_count": null,
   "metadata": {},
   "outputs": [],
   "source": [
    "from IPython.display import IFrame \n",
    "from IPython.core.display import display\n",
    "\n",
    "viz_file = 'files/res/facebook/viz/force.html'\n",
    "\n",
    "display(IFrame(viz_file, '100%', '600px'))\n"
   ]
  }
 ],
 "metadata": {
  "kernelspec": {
   "display_name": "Python 3",
   "language": "python",
   "name": "python3"
  },
  "language_info": {
   "codemirror_mode": {
    "name": "ipython",
    "version": 3
   },
   "file_extension": ".py",
   "mimetype": "text/x-python",
   "name": "python",
   "nbconvert_exporter": "python",
   "pygments_lexer": "ipython3",
   "version": "3.7.6"
  }
 },
 "nbformat": 4,
 "nbformat_minor": 4
}
